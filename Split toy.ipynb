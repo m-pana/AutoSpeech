{
 "cells": [
  {
   "cell_type": "markdown",
   "metadata": {},
   "source": [
    "This script re-distributes the content of the file `ASVspoof2019.LA.cm.train_short.trn.txt` into three parts:\n",
    "- `ASVspoof2019.LA.cm.dev_short.trn.txt`\n",
    "- `ASVspoof2019.LA.cm.eval_short.trn.txt`\n",
    "- `ASVspoof2019.LA.cm.train_short.trn.txt`\n",
    "\n",
    "The split is stratified and made according to the following proportions: 1/2 of the data in `train`, 1/4 in `dev`, 1/4 in `eval`.  \n",
    "After that, you can have some fun with your new toys.  \n",
    "\\* *badum-tsss* \\*"
   ]
  },
  {
   "cell_type": "code",
   "execution_count": 1,
   "metadata": {},
   "outputs": [],
   "source": [
    "import os\n",
    "from sklearn.model_selection import train_test_split"
   ]
  },
  {
   "cell_type": "code",
   "execution_count": 2,
   "metadata": {},
   "outputs": [],
   "source": [
    "ROOT = 'LA/'\n",
    "input_path = ROOT + 'ASVspoof2019.LA.cm.train_short_TOSPLIT.trn.txt'\n",
    "\n",
    "output_train = ROOT + 'ASVspoof2019.LA.cm.train_short.trn.txt'\n",
    "output_dev = ROOT + 'ASVspoof2019.LA.cm.dev_short.trn.txt'\n",
    "output_eval = ROOT + 'ASVspoof2019.LA.cm.eval_short.trn.txt'"
   ]
  },
  {
   "cell_type": "code",
   "execution_count": 3,
   "metadata": {},
   "outputs": [],
   "source": [
    "with open(input_path, 'r') as f:\n",
    "    lines = f.readlines()"
   ]
  },
  {
   "cell_type": "code",
   "execution_count": 4,
   "metadata": {},
   "outputs": [],
   "source": [
    "data = []\n",
    "labels = []\n",
    "\n",
    "for line in lines:\n",
    "    is_bonafide = int(line.split()[-1] == 'human')\n",
    "    data.append(line)\n",
    "    labels.append(is_bonafide)"
   ]
  },
  {
   "cell_type": "code",
   "execution_count": 5,
   "metadata": {},
   "outputs": [],
   "source": [
    "proportion = 0.5\n",
    "\n",
    "# Splitting once to get train\n",
    "data_train, data_test, labels_train, labels_test = train_test_split(data, labels, stratify=labels, train_size=proportion)\n",
    "# Splitting test again to get dev and eval\n",
    "data_dev, data_eval = train_test_split(data_test, stratify=labels_test, train_size=proportion)"
   ]
  },
  {
   "cell_type": "code",
   "execution_count": 6,
   "metadata": {},
   "outputs": [],
   "source": [
    "# Write on the new files\n",
    "with open(output_train, 'w') as f:\n",
    "    f.writelines(data_train)\n",
    "    \n",
    "with open(output_dev, 'w') as f:\n",
    "    f.writelines(data_dev)\n",
    "\n",
    "with open(output_eval, 'w') as f:\n",
    "    f.writelines(data_eval)"
   ]
  }
 ],
 "metadata": {
  "kernelspec": {
   "display_name": "Python 3",
   "language": "python",
   "name": "python3"
  },
  "language_info": {
   "codemirror_mode": {
    "name": "ipython",
    "version": 3
   },
   "file_extension": ".py",
   "mimetype": "text/x-python",
   "name": "python",
   "nbconvert_exporter": "python",
   "pygments_lexer": "ipython3",
   "version": "3.7.5"
  }
 },
 "nbformat": 4,
 "nbformat_minor": 2
}
